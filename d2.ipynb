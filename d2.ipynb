{
 "cells": [
  {
   "cell_type": "code",
   "execution_count": 1,
   "metadata": {},
   "outputs": [],
   "source": [
    "import numpy as np\n",
    "import matplotlib.pyplot as plt"
   ]
  },
  {
   "cell_type": "code",
   "execution_count": 2,
   "metadata": {},
   "outputs": [],
   "source": [
    "from keras.preprocessing import image_dataset_from_directory\n",
    "from keras.models import Sequential\n",
    "from keras.layers import Conv2D, MaxPooling2D, Flatten, Dense\n",
    "from keras.optimizers import SGD\n",
    "from keras.metrics import Precision, Recall"
   ]
  },
  {
   "cell_type": "code",
   "execution_count": 3,
   "metadata": {},
   "outputs": [],
   "source": [
    "train_dir = \"./cifar-10-img/train\"\n",
    "test_dir = \"./cifar-10-img/test\""
   ]
  },
  {
   "cell_type": "code",
   "execution_count": 4,
   "metadata": {},
   "outputs": [
    {
     "name": "stdout",
     "output_type": "stream",
     "text": [
      "Found 40079 files belonging to 10 classes.\n",
      "Found 9921 files belonging to 10 classes.\n"
     ]
    }
   ],
   "source": [
    "train_dataset = image_dataset_from_directory(\n",
    "    train_dir,\n",
    "    label_mode='int',\n",
    "    image_size=(32, 32),\n",
    "    color_mode='grayscale',\n",
    "    batch_size=32,\n",
    ")\n",
    "\n",
    "test_dataset = image_dataset_from_directory(\n",
    "    test_dir,\n",
    "    label_mode='int',\n",
    "    image_size=(32, 32),\n",
    "    color_mode='grayscale',\n",
    "    batch_size=32,\n",
    ")"
   ]
  },
  {
   "cell_type": "code",
   "execution_count": 5,
   "metadata": {},
   "outputs": [
    {
     "name": "stdout",
     "output_type": "stream",
     "text": [
      "Shape of images in a batch: (32, 32, 32, 1)\n",
      "Shape of labels in a batch: (32,)\n"
     ]
    }
   ],
   "source": [
    "for images, labels in train_dataset.take(1):\n",
    "    print(\"Shape of images in a batch:\", images.shape)  # Expected: (32, 32, 32, 1)\n",
    "    print(\"Shape of labels in a batch:\", labels.shape)  # Expected: (32,)"
   ]
  },
  {
   "cell_type": "code",
   "execution_count": 6,
   "metadata": {},
   "outputs": [],
   "source": [
    "def Normalize_image(image, labels):\n",
    "    return image / 255.0, labels"
   ]
  },
  {
   "cell_type": "code",
   "execution_count": 7,
   "metadata": {},
   "outputs": [],
   "source": [
    "train_dataset = train_dataset.map(Normalize_image)\n",
    "test_dataset = test_dataset.map(Normalize_image)"
   ]
  },
  {
   "cell_type": "code",
   "execution_count": 8,
   "metadata": {},
   "outputs": [
    {
     "data": {
      "image/png": "[encoded data removed]",
      "text/plain": [
       "<Figure size 500x500 with 5 Axes>"
      ]
     },
     "metadata": {},
     "output_type": "display_data"
    }
   ],
   "source": [
    "def Display_iamges(dataset, num=5):\n",
    "    plt.figure(figsize=(5,5))\n",
    "    for images, labels in dataset.take(1):\n",
    "        for i in range(num):\n",
    "            plt.subplot(1, num, i+1)\n",
    "            plt.imshow(images[i], cmap='gray')\n",
    "            plt.title(labels[i].numpy())\n",
    "            plt.axis('off')\n",
    "        plt.show()\n",
    "        \n",
    "Display_iamges(train_dataset)"
   ]
  },
  {
   "cell_type": "code",
   "execution_count": 9,
   "metadata": {},
   "outputs": [
    {
     "name": "stdout",
     "output_type": "stream",
     "text": [
      "Model: \"sequential\"\n",
      "_________________________________________________________________\n",
      " Layer (type)                Output Shape              Param #   \n",
      "=================================================================\n",
      " conv2d (Conv2D)             (None, 30, 30, 32)        320       \n",
      "                                                                 \n",
      " max_pooling2d (MaxPooling2  (None, 15, 15, 32)        0         \n",
      " D)                                                              \n",
      "                                                                 \n",
      " flatten (Flatten)           (None, 7200)              0         \n",
      "                                                                 \n",
      " dense (Dense)               (None, 128)               921728    \n",
      "                                                                 \n",
      " dense_1 (Dense)             (None, 64)                8256      \n",
      "                                                                 \n",
      " dense_2 (Dense)             (None, 10)                650       \n",
      "                                                                 \n",
      "=================================================================\n",
      "Total params: 930954 (3.55 MB)\n",
      "Trainable params: 930954 (3.55 MB)\n",
      "Non-trainable params: 0 (0.00 Byte)\n",
      "_________________________________________________________________\n"
     ]
    }
   ],
   "source": [
    "model = Sequential([\n",
    "    Conv2D(32, (3, 3), activation='relu', input_shape=(32, 32, 1)),\n",
    "    MaxPooling2D((2, 2)),\n",
    "    Flatten(),\n",
    "    Dense(128, activation='relu'),\n",
    "    Dense(64, activation='relu'),\n",
    "    Dense(10, activation='softmax')\n",
    "])\n",
    "\n",
    "model.summary()"
   ]
  },
  {
   "cell_type": "code",
   "execution_count": 12,
   "metadata": {},
   "outputs": [],
   "source": [
    "model.compile(optimizer=SGD(learning_rate=0.01),\n",
    "              loss=\"sparse_categorical_crossentropy\", \n",
    "              metrics=['Accuracy'])"
   ]
  },
  {
   "cell_type": "code",
   "execution_count": 13,
   "metadata": {},
   "outputs": [
    {
     "name": "stdout",
     "output_type": "stream",
     "text": [
      "Epoch 1/5\n"
     ]
    },
    {
     "name": "stdout",
     "output_type": "stream",
     "text": [
      "1253/1253 [==============================] - 98s 78ms/step - loss: 2.1406 - Accuracy: 0.2137 - val_loss: 2.0432 - val_Accuracy: 0.2653\n",
      "Epoch 2/5\n",
      "1253/1253 [==============================] - 28s 22ms/step - loss: 1.9647 - Accuracy: 0.3015 - val_loss: 1.9095 - val_Accuracy: 0.3250\n",
      "Epoch 3/5\n",
      "1253/1253 [==============================] - 30s 24ms/step - loss: 1.8207 - Accuracy: 0.3528 - val_loss: 1.8659 - val_Accuracy: 0.3381\n",
      "Epoch 4/5\n",
      "1253/1253 [==============================] - 34s 27ms/step - loss: 1.6963 - Accuracy: 0.3978 - val_loss: 1.6465 - val_Accuracy: 0.4163\n",
      "Epoch 5/5\n",
      "1253/1253 [==============================] - 32s 25ms/step - loss: 1.6051 - Accuracy: 0.4290 - val_loss: 1.6726 - val_Accuracy: 0.4017\n"
     ]
    }
   ],
   "source": [
    "history = model.fit(train_dataset, epochs=5, validation_data=test_dataset)"
   ]
  },
  {
   "cell_type": "code",
   "execution_count": null,
   "metadata": {},
   "outputs": [],
   "source": []
  }
 ],
 "metadata": {
  "kernelspec": {
   "display_name": "Python 3",
   "language": "python",
   "name": "python3"
  },
  "language_info": {
   "codemirror_mode": {
    "name": "ipython",
    "version": 3
   },
   "file_extension": ".py",
   "mimetype": "text/x-python",
   "name": "python",
   "nbconvert_exporter": "python",
   "pygments_lexer": "ipython3",
   "version": "3.11.5"
  }
 },
 "nbformat": 4,
 "nbformat_minor": 2
}
